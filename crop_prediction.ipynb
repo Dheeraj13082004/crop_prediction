{
  "nbformat": 4,
  "nbformat_minor": 0,
  "metadata": {
    "colab": {
      "provenance": [],
      "authorship_tag": "ABX9TyNlev2v05zy0OzPKK3RVOli",
      "include_colab_link": true
    },
    "kernelspec": {
      "name": "python3",
      "display_name": "Python 3"
    },
    "language_info": {
      "name": "python"
    }
  },
  "cells": [
    {
      "cell_type": "markdown",
      "metadata": {
        "id": "view-in-github",
        "colab_type": "text"
      },
      "source": [
        "<a href=\"https://colab.research.google.com/github/Dheeraj13082004/crop_prediction/blob/main/crop_prediction.ipynb\" target=\"_parent\"><img src=\"https://colab.research.google.com/assets/colab-badge.svg\" alt=\"Open In Colab\"/></a>"
      ]
    },
    {
      "cell_type": "code",
      "source": [
        "!pip install future"
      ],
      "metadata": {
        "colab": {
          "base_uri": "https://localhost:8080/"
        },
        "id": "Tvjw1HFGuAy_",
        "outputId": "0fcc5fb8-0f93-4f2d-e8ef-c83bacf15712"
      },
      "execution_count": 3,
      "outputs": [
        {
          "output_type": "stream",
          "name": "stdout",
          "text": [
            "Requirement already satisfied: future in /usr/local/lib/python3.10/dist-packages (0.18.3)\n"
          ]
        }
      ]
    },
    {
      "cell_type": "code",
      "execution_count": 8,
      "metadata": {
        "colab": {
          "base_uri": "https://localhost:8080/",
          "height": 661
        },
        "id": "Azyfe4V7s4VN",
        "outputId": "82fec8d0-d323-4983-be34-bcb9ccb3dc19"
      },
      "outputs": [
        {
          "output_type": "display_data",
          "data": {
            "text/plain": [
              "<Figure size 1000x500 with 1 Axes>"
            ],
            "image/png": "[encoded data removed]"
          },
          "metadata": {}
        },
        {
          "output_type": "stream",
          "name": "stdout",
          "text": [
            "Decision Tree --> 0.9\n",
            "Naive Bayes --> 0.990909090909091\n",
            "SVM --> 0.10681818181818181\n",
            "Logistic Regression --> 0.9522727272727273\n",
            "Random Forest --> 0.990909090909091\n",
            "Random Forest Prediction: ['jute']\n",
            "Logistic Regression Prediction: ['jute']\n",
            "SVM Prediction: ['kidneybeans']\n",
            "Naive Bayes Prediction: ['jute']\n",
            "Decision Tree Prediction: ['jute']\n"
          ]
        }
      ],
      "source": [
        "from __future__ import print_function\n",
        "import pickle\n",
        "import pandas as pd\n",
        "import numpy as np\n",
        "import matplotlib.pyplot as plt\n",
        "import seaborn as sns\n",
        "from sklearn.metrics import classification_report\n",
        "from sklearn import metrics\n",
        "from sklearn.model_selection import train_test_split\n",
        "from sklearn.tree import DecisionTreeClassifier\n",
        "from sklearn.naive_bayes import GaussianNB\n",
        "from sklearn.svm import SVC\n",
        "from sklearn.linear_model import LogisticRegression\n",
        "from sklearn.ensemble import RandomForestClassifier\n",
        "from sklearn.model_selection import cross_val_score\n",
        "import warnings\n",
        "\n",
        "warnings.filterwarnings('ignore')\n",
        "\n",
        "PATH = '/content/Crop_recommendation.csv'\n",
        "df = pd.read_csv(PATH)\n",
        "\n",
        "features = df[['N', 'P', 'K', 'temperature', 'humidity', 'ph', 'rainfall']]\n",
        "target = df['label']\n",
        "\n",
        "Xtrain, Xtest, Ytrain, Ytest = train_test_split(features, target, test_size=0.2, random_state=2)\n",
        "\n",
        "acc = []\n",
        "model = []\n",
        "\n",
        "# Decision Tree\n",
        "DecisionTree = DecisionTreeClassifier(criterion=\"entropy\", random_state=2, max_depth=5)\n",
        "DecisionTree.fit(Xtrain, Ytrain)\n",
        "predicted_values = DecisionTree.predict(Xtest)\n",
        "acc.append(metrics.accuracy_score(Ytest, predicted_values))\n",
        "model.append('Decision Tree')\n",
        "\n",
        "with open('DecisionTree.pkl', 'wb') as DT_Model_pkl:\n",
        "    pickle.dump(DecisionTree, DT_Model_pkl)\n",
        "\n",
        "# Naive Bayes\n",
        "NaiveBayes = GaussianNB()\n",
        "NaiveBayes.fit(Xtrain, Ytrain)\n",
        "predicted_values = NaiveBayes.predict(Xtest)\n",
        "acc.append(metrics.accuracy_score(Ytest, predicted_values))\n",
        "model.append('Naive Bayes')\n",
        "\n",
        "with open('NBClassifier.pkl', 'wb') as NB_Model_pkl:\n",
        "    pickle.dump(NaiveBayes, NB_Model_pkl)\n",
        "\n",
        "# SVM\n",
        "SVM = SVC(gamma='auto')\n",
        "SVM.fit(Xtrain, Ytrain)\n",
        "predicted_values = SVM.predict(Xtest)\n",
        "acc.append(metrics.accuracy_score(Ytest, predicted_values))\n",
        "model.append('SVM')\n",
        "\n",
        "# Logistic Regression\n",
        "LogReg = LogisticRegression(random_state=2)\n",
        "LogReg.fit(Xtrain, Ytrain)\n",
        "predicted_values = LogReg.predict(Xtest)\n",
        "acc.append(metrics.accuracy_score(Ytest, predicted_values))\n",
        "model.append('Logistic Regression')\n",
        "\n",
        "with open('LogisticRegression.pkl', 'wb') as LR_Model_pkl:\n",
        "    pickle.dump(LogReg, LR_Model_pkl)\n",
        "\n",
        "# Random Forest\n",
        "RF = RandomForestClassifier(n_estimators=20, random_state=0)\n",
        "RF.fit(Xtrain, Ytrain)\n",
        "predicted_values = RF.predict(Xtest)\n",
        "acc.append(metrics.accuracy_score(Ytest, predicted_values))\n",
        "model.append('Random Forest')\n",
        "\n",
        "with open('RandomForest.pkl', 'wb') as RF_Model_pkl:\n",
        "    pickle.dump(RF, RF_Model_pkl)\n",
        "\n",
        "# Visualization\n",
        "plt.figure(figsize=[10, 5], dpi=100)\n",
        "plt.title('Accuracy Comparison')\n",
        "plt.xlabel('Accuracy')\n",
        "plt.ylabel('Algorithm')\n",
        "sns.barplot(x=acc, y=model, palette='dark', order=np.array(model)[np.argsort(acc)])\n",
        "plt.show()\n",
        "\n",
        "# Display accuracy values\n",
        "accuracy_models = dict(zip(model, acc))\n",
        "for k, v in accuracy_models.items():\n",
        "    print(f\"{k} --> {v}\")\n",
        "\n",
        "# Make predictions on new data\n",
        "data = np.array([[83, 45, 60, 28, 70.3, 7.0, 150.9]])\n",
        "for model, model_name in zip([RF, LogReg, SVM, NaiveBayes, DecisionTree],\n",
        "                              ['Random Forest', 'Logistic Regression', 'SVM', 'Naive Bayes', 'Decision Tree']):\n",
        "    prediction = model.predict(data)\n",
        "    print(f\"{model_name} Prediction: {prediction}\")\n"
      ]
    }
  ]
}